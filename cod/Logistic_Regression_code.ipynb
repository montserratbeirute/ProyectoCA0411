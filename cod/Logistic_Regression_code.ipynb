{
 "cells": [
  {
   "cell_type": "markdown",
   "id": "2b5c7593",
   "metadata": {},
   "source": [
    "### Regresión Logística \n",
    "### 1. Importamos las librerías"
   ]
  },
  {
   "cell_type": "code",
   "execution_count": 1,
   "id": "397eacb9",
   "metadata": {},
   "outputs": [],
   "source": [
    "import pandas as pd\n",
    "import os\n",
    "import numpy as np\n",
    "import matplotlib.pyplot as plt\n",
    "\n",
    "from sklearn.linear_model import LogisticRegression\n",
    "from sklearn.compose import ColumnTransformer\n",
    "from sklearn.pipeline import Pipeline\n",
    "from sklearn.model_selection import train_test_split\n",
    "from sklearn.preprocessing import StandardScaler, OneHotEncoder\n",
    "from sklearn.metrics import classification_report, confusion_matrix, accuracy_score,f1_score,make_scorer, roc_curve, roc_auc_score\n",
    "from sklearn.model_selection import StratifiedKFold, GridSearchCV\n",
    "\n",
    "\n",
    "import warnings\n",
    "warnings.filterwarnings(\"ignore\")"
   ]
  },
  {
   "cell_type": "markdown",
   "id": "5b1f180a",
   "metadata": {},
   "source": [
    "### 2. Lectura de datos"
   ]
  },
  {
   "cell_type": "code",
   "execution_count": 2,
   "id": "b64b6aee",
   "metadata": {},
   "outputs": [],
   "source": [
    "# Devuelve el directorio de un nombre de ruta dado\n",
    "ruta_base = os.getcwd() \n",
    "ruta_data = os.path.join(ruta_base, \"..\", \"data\", \"loan_data.csv\")\n",
    "# Cargar el CSV\n",
    "df_loan = pd.read_csv(ruta_data )\n",
    "\n",
    "# Resolver el problema de outliers -------------------------------------------\n",
    "\n",
    "# 1. Binarizar `pub.rec`: 0 = sin registros, 1 = con al menos uno\n",
    "df_loan['pub.rec_flag'] = df_loan['pub.rec'].apply(lambda x: 1 if x > 0 else 0)\n",
    "\n",
    "# 2. Agrupar `delinq.2yrs`: '0' vs '1 o más'\n",
    "df_loan['delinq.2yrs_binned'] = df_loan['delinq.2yrs'].apply(lambda x: '0' if x == 0 else '1+')\n",
    "\n",
    "# 3. Transformar `revol.bal` con logaritmo para reducir asimetría\n",
    "df_loan['log.revol.bal'] = np.log1p(df_loan['revol.bal'])  # log(x + 1) evita log(0)"
   ]
  },
  {
   "cell_type": "markdown",
   "id": "4f15db0e",
   "metadata": {},
   "source": [
    "### 3. Preparación de datos para la regresión logística"
   ]
  },
  {
   "cell_type": "code",
   "execution_count": 3,
   "id": "77b8954a",
   "metadata": {},
   "outputs": [],
   "source": [
    "# Se consideran variables que no impliquen una multicolinealidad\n",
    "df_loan_RL = df_loan.drop(columns=['revol.bal','delinq.2yrs','pub.rec_flag'])\n",
    "\n",
    "# Se cambia delinq.2yrs_binned por variable binaria\n",
    "df_loan_RL['delinq.2yrs_binned'] = df_loan_RL['delinq.2yrs_binned'].map({'0':0,'1+':1})\n",
    "\n",
    "# Identificar columnas numericas y columnas categoricas y binarias\n",
    "variables_numericas = ['int.rate','installment','log.annual.inc','dti','fico','days.with.cr.line','revol.util','inq.last.6mths','pub.rec','log.revol.bal']\n",
    "variables_categoricas = ['purpose']\n",
    "variables_binarias = ['credit.policy', 'delinq.2yrs_binned','not.fully.paid']\n",
    "\n",
    "# Separar en dos df's: X variables de entrada, Y variable de salida (not.fully.paid)\n",
    "X = df_loan_RL.drop(\"not.fully.paid\", axis=1)\n",
    "y = df_loan_RL[\"not.fully.paid\"]\n",
    "\n",
    "X_train, X_test, y_train, y_test = train_test_split(X,y,test_size=0.3,random_state=123)"
   ]
  },
  {
   "cell_type": "markdown",
   "id": "3b4f60ef",
   "metadata": {},
   "source": [
    "### 4. Preprocesamiento y Pipeline"
   ]
  },
  {
   "cell_type": "code",
   "execution_count": 4,
   "id": "8ff1c87d",
   "metadata": {},
   "outputs": [
    {
     "data": {
      "image/png": "[encoded data removed]",
      "text/plain": [
       "<Figure size 640x480 with 2 Axes>"
      ]
     },
     "metadata": {},
     "output_type": "display_data"
    },
    {
     "name": "stdout",
     "output_type": "stream",
     "text": [
      "\n",
      "Reporte de Clasificación:\n",
      "              precision    recall  f1-score   support\n",
      "\n",
      "           0       0.84      0.99      0.91      2394\n",
      "           1       0.52      0.03      0.06       480\n",
      "\n",
      "    accuracy                           0.83      2874\n",
      "   macro avg       0.68      0.51      0.48      2874\n",
      "weighted avg       0.78      0.83      0.77      2874\n",
      "\n"
     ]
    }
   ],
   "source": [
    "# Transformador de columnas categóricas en dummies con el onehot y estandariza las numericas.\n",
    "preprocesar_datos = ColumnTransformer(\n",
    "    transformers=[\n",
    "        ('estandarizar',StandardScaler(),variables_numericas),\n",
    "        ('onehot',OneHotEncoder(drop='first'),variables_categoricas)\n",
    "    ],\n",
    "    remainder='passthrough')\n",
    "\n",
    "# Clasificador RL\n",
    "regresion_log = LogisticRegression(max_iter=1000, random_state=123)\n",
    "\n",
    "# Objeto Pipeline\n",
    "pipeline = Pipeline([\n",
    "    (\"preprocesar\", preprocesar_datos),\n",
    "    (\"clasificador\", regresion_log)])\n",
    "\n",
    "#Entrenamiento \n",
    "pipeline.fit(X_train, y_train)\n",
    "\n",
    "#Predicciones\n",
    "y_pred = pipeline.predict(X_test)\n",
    "\n",
    "# Métricas\n",
    "# Calcular la matriz de confusión\n",
    "matriz = confusion_matrix(y_test, y_pred)\n",
    "plt.imshow(matriz, cmap=\"Blues\")\n",
    "plt.title(\"Matriz de Confusión (Regresión Logística)\")\n",
    "plt.xlabel(\"Predicción\")\n",
    "plt.ylabel(\"Real\")\n",
    "for i in range(2):\n",
    "    for j in range(2):\n",
    "        plt.text(j, i, str(matriz[i, j]), ha='center', va='center', fontsize=12, color='black')\n",
    "plt.colorbar()\n",
    "plt.xticks([0, 1], [\"Pagó\",\"No pagó\"])\n",
    "plt.yticks([0, 1], [\"Pagó\",\"No pagó\"])\n",
    "plt.tight_layout()\n",
    "plt.show()\n",
    "\n",
    "print(\"\\nReporte de Clasificación:\")\n",
    "print(classification_report(y_test, y_pred))"
   ]
  },
  {
   "cell_type": "code",
   "execution_count": 5,
   "id": "954fcd3e",
   "metadata": {},
   "outputs": [
    {
     "name": "stdout",
     "output_type": "stream",
     "text": [
      "Mejores hiperparámetros: {'clasificador__C': np.float64(1.5)}\n",
      "\n",
      "Mejor umbral: 0.20\n",
      "Mejor F1-score (clase 1): 0.3448\n",
      "\n",
      "Reporte de Clasificación (Regresión Logística):\n",
      "              precision    recall  f1-score   support\n",
      "\n",
      "           0       0.88      0.79      0.83      8045\n",
      "           1       0.29      0.44      0.35      1533\n",
      "\n",
      "    accuracy                           0.74      9578\n",
      "   macro avg       0.58      0.62      0.59      9578\n",
      "weighted avg       0.79      0.74      0.76      9578\n",
      "\n"
     ]
    },
    {
     "data": {
      "image/png": "[encoded data removed]",
      "text/plain": [
       "<Figure size 640x480 with 2 Axes>"
      ]
     },
     "metadata": {},
     "output_type": "display_data"
    }
   ],
   "source": [
    "# GridSearchCV para buscar el mejor C\n",
    "param_grid = {\n",
    "    \"clasificador__C\": np.arange(1, 10, 0.5)\n",
    "}\n",
    "\n",
    "#  GridSearchCV con validación cruzada estratificada y F1-score clase 1\n",
    "cv = StratifiedKFold(n_splits=10, shuffle=True, random_state=123)\n",
    "scorer = make_scorer(f1_score, pos_label=1)\n",
    "grid = GridSearchCV(pipeline, param_grid, cv=cv, scoring=scorer, n_jobs=-1)\n",
    "grid.fit(X, y)\n",
    "mejor_modelo = grid.best_estimator_\n",
    "print(\"Mejores hiperparámetros:\", grid.best_params_)\n",
    "\n",
    "# Validación cruzada para obtener probabilidades utilizando modoelo previamente optimizado con gridsearchcv\n",
    "umbrales = np.arange(0.10, 0.90, 0.05)\n",
    "y_probabilidades = np.zeros_like(y, dtype=float)\n",
    "y_reales = np.zeros_like(y)\n",
    "\n",
    "for train_idx, test_idx in cv.split(X, y):\n",
    "    X_train, X_test = X.iloc[train_idx], X.iloc[test_idx]\n",
    "    y_train, y_test = y.iloc[train_idx], y.iloc[test_idx]\n",
    "    mejor_modelo.fit(X_train, y_train)\n",
    "    probas = mejor_modelo.predict_proba(X_test)[:, 1]\n",
    "    y_probabilidades[test_idx] = probas\n",
    "    y_reales[test_idx] = y_test\n",
    "\n",
    "# Buscamos el mejor umbral que maximiza F1-score de la clase 1\n",
    "f1_scores = []\n",
    "for umbral in umbrales:\n",
    "    y_pred = (y_probabilidades >= umbral).astype(int)\n",
    "    f1_scores.append(f1_score(y_reales, y_pred, pos_label=1))\n",
    "\n",
    "mejor_umbral = umbrales[np.argmax(f1_scores)]\n",
    "print(f\"\\nMejor umbral: {mejor_umbral:.2f}\")\n",
    "print(f\"Mejor F1-score (clase 1): {max(f1_scores):.4f}\")\n",
    "\n",
    "# Entrenamos modelo final con todos los datos disponibles y aplica el mejro umbral para convertir la probabilidad en 0 o 1\n",
    "mejor_modelo.fit(X, y)\n",
    "y_prob_final = mejor_modelo.predict_proba(X)[:, 1]\n",
    "y_pred_final = (y_prob_final >= mejor_umbral).astype(int)\n",
    "\n",
    "# Reporte final\n",
    "print(\"\\nReporte de Clasificación (Regresión Logística):\")\n",
    "print(classification_report(y, y_pred_final))\n",
    "\n",
    "# Calcular la matriz de confusión\n",
    "matriz = confusion_matrix(y, y_pred_final)\n",
    "plt.imshow(matriz, cmap=\"Blues\")\n",
    "plt.title(\"Matriz de Confusión (Regresión Logística)\")\n",
    "plt.xlabel(\"Predicción\")\n",
    "plt.ylabel(\"Real\")\n",
    "for i in range(2):\n",
    "    for j in range(2):\n",
    "        plt.text(j, i, str(matriz[i, j]), ha='center', va='center', fontsize=12, color='black')\n",
    "plt.colorbar()\n",
    "plt.xticks([0, 1], [\"Pagó\",\"No pagó\"])\n",
    "plt.yticks([0, 1], [\"Pagó\",\"No pagó\"])\n",
    "plt.tight_layout()\n",
    "plt.show()\n"
   ]
  },
  {
   "cell_type": "code",
   "execution_count": 6,
   "id": "a6ecbcd8",
   "metadata": {},
   "outputs": [
    {
     "name": "stdout",
     "output_type": "stream",
     "text": [
      "int.rate: -0.0093\n",
      "installment: 0.2900\n",
      "log.annual.inc: -0.2498\n",
      "dti: -0.0005\n",
      "fico: -0.3364\n",
      "days.with.cr.line: 0.0618\n",
      "revol.util: 0.1302\n",
      "inq.last.6mths: 0.1909\n",
      "pub.rec: 0.0469\n",
      "log.revol.bal: -0.0262\n",
      "purpose_credit_card: -0.5080\n",
      "purpose_debt_consolidation: -0.3101\n",
      "purpose_educational: 0.1541\n",
      "purpose_home_improvement: 0.0495\n",
      "purpose_major_purchase: -0.4076\n",
      "purpose_small_business: 0.5051\n",
      "credit.policy: -0.4451\n",
      "delinq.2yrs_binned: -0.1037\n"
     ]
    }
   ],
   "source": [
    "# coeficientes\n",
    "modelo_rl = pipeline.named_steps['clasificador']\n",
    "coeficientes = modelo_rl.coef_[0]  # Vector de coeficientes (para clase 1)\n",
    "# Accede al preprocesador\n",
    "preprocesador = pipeline.named_steps['preprocesar']\n",
    "\n",
    "# Obtener nombres de variables categóricas después de one-hot encoding\n",
    "onehot = preprocesador.named_transformers_['onehot']\n",
    "cat_vars = onehot.get_feature_names_out(variables_categoricas)\n",
    "\n",
    "# Variables pasadas sin transformar (remainder='passthrough')\n",
    "remainder_vars = [col for col in X.columns if col not in variables_numericas+variables_categoricas]\n",
    "\n",
    "# Combinar todos los nombres de columnas transformadas\n",
    "nombres_variables = list(variables_numericas) + list(cat_vars) + list(remainder_vars)\n",
    "for nombre, coef in zip(nombres_variables, coeficientes):\n",
    "    print(f\"{nombre}: {coef:.4f}\")"
   ]
  }
 ],
 "metadata": {
  "kernelspec": {
   "display_name": "Python 3",
   "language": "python",
   "name": "python3"
  },
  "language_info": {
   "codemirror_mode": {
    "name": "ipython",
    "version": 3
   },
   "file_extension": ".py",
   "mimetype": "text/x-python",
   "name": "python",
   "nbconvert_exporter": "python",
   "pygments_lexer": "ipython3",
   "version": "3.13.3"
  }
 },
 "nbformat": 4,
 "nbformat_minor": 5
}
